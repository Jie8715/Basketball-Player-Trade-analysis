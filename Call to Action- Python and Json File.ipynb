{
 "cells": [
  {
   "cell_type": "markdown",
   "metadata": {},
   "source": [
    "# Call to Action- Python and Json File\n",
    "\n",
    "# Jie Guo\n",
    "\n",
    "# 2/3/2021"
   ]
  },
  {
   "cell_type": "markdown",
   "metadata": {},
   "source": [
    "###  The Research Purpose（Stakeholder: American dream team)"
   ]
  },
  {
   "cell_type": "markdown",
   "metadata": {},
   "source": [
    "####  Background :\n",
    "#### In this research, the Json file is talk about the fantasy baskerball game, and this reasearch is offer service for the team whose name is American Dreams, with the development of season, our team need to buy a position 1(point guard) and a position2 (shooting guard), so my task is to find the fittest basketball player."
   ]
  },
  {
   "cell_type": "markdown",
   "metadata": {},
   "source": [
    "####  My analysis of idea:\n",
    "#### According to the backgoud, I can see the team need to position1 and position2, I think the most important factors are the cost and the skill of player."
   ]
  },
  {
   "cell_type": "code",
   "execution_count": 1,
   "metadata": {},
   "outputs": [],
   "source": [
    "import requests\n",
    "import json\n",
    "import numpy as np\n",
    "from matplotlib import pyplot as plt"
   ]
  },
  {
   "cell_type": "markdown",
   "metadata": {},
   "source": [
    "## Read the Json file "
   ]
  },
  {
   "cell_type": "code",
   "execution_count": 2,
   "metadata": {
    "scrolled": true
   },
   "outputs": [
    {
     "name": "stdout",
     "output_type": "stream",
     "text": [
      "<class 'list'>\n",
      "274\n",
      "dict_keys(['id', 'first_name', 'last_name', 'squad_id', 'cost', 'status', 'stats', 'positions', 'is_bye', 'locked', 'notes'])\n"
     ]
    }
   ],
   "source": [
    "my_file2 = open(\"players.json\",\"r\")\n",
    "\n",
    "parsed = json.load(my_file2)\n",
    "\n",
    "my_file2.close()\n",
    "\n",
    "print(type(parsed))\n",
    "\n",
    "len(parsed)\n",
    "\n",
    "print(len(parsed))\n",
    "\n",
    "print(parsed[0].keys())\n",
    "\n",
    "my_file2.close()"
   ]
  },
  {
   "cell_type": "markdown",
   "metadata": {},
   "source": [
    "#### I use read function to read the json file , and find all of keys, including 'id', 'first name',  'last_name', 'squad_id', 'cost', 'status', 'stats', 'positions', 'is_bye', 'locked', and 'notes'."
   ]
  },
  {
   "cell_type": "markdown",
   "metadata": {},
   "source": [
    "##  Data Mining\n",
    "### Find the id of position1 and position 2 player."
   ]
  },
  {
   "cell_type": "code",
   "execution_count": 3,
   "metadata": {},
   "outputs": [
    {
     "name": "stdout",
     "output_type": "stream",
     "text": [
      "The positions are [2, 1, 3, 4, 5]\n",
      "The position1 are [2, 10, 16, 18, 24, 36, 38, 41, 44, 47, 51, 57, 62, 63, 69, 74, 77, 83, 86, 92, 94, 104, 108, 115, 122, 124, 128, 130, 135, 141, 144, 148, 150, 157, 164, 179, 184, 186, 188, 190, 191, 195, 197, 198, 201, 202, 203, 208, 209, 210, 214, 267, 348, 352, 356, 358, 361, 372, 404, 3842, 8159]\n",
      "The position2 are [1, 5, 9, 14, 19, 21, 22, 23, 28, 29, 30, 33, 37, 39, 53, 54, 55, 59, 61, 65, 75, 79, 80, 84, 85, 91, 102, 103, 106, 125, 132, 139, 147, 154, 166, 167, 172, 173, 174, 175, 177, 183, 187, 189, 192, 193, 196, 206, 207, 212, 213, 306, 340, 344, 346, 347, 355, 360, 362, 364, 365, 373, 374, 391, 394, 395, 396, 397, 398, 400, 401, 405, 4195, 8099]\n"
     ]
    }
   ],
   "source": [
    "positions=[]\n",
    "position1=[]\n",
    "position2=[]\n",
    "\n",
    "for i in range(len(parsed)):\n",
    "    try:\n",
    "        for j in parsed[i]['positions']:\n",
    "            if j not in positions:\n",
    "                positions.append(j)\n",
    "            if j == 1:\n",
    "                position1.append(parsed[i]['id'])\n",
    "            if j == 2:\n",
    "                position2.append(parsed[i]['id'])\n",
    "    except:\n",
    "        continue\n",
    "        \n",
    "        \n",
    "print(\"The positions are\", positions)\n",
    "print(\"The position1 are\", position1)\n",
    "print(\"The position2 are\", position2)\n",
    "              \n",
    "    \n"
   ]
  },
  {
   "cell_type": "markdown",
   "metadata": {},
   "source": [
    "### In this step, I extract the position class in the file, and I use the loop to find all position 1 and position 2 player's id."
   ]
  },
  {
   "cell_type": "markdown",
   "metadata": {},
   "source": [
    "###  According to the player's id of position1 and position2, I find the cost of position1 players and position 2 players, and named position1_cost and position2_cost"
   ]
  },
  {
   "cell_type": "code",
   "execution_count": 4,
   "metadata": {},
   "outputs": [
    {
     "name": "stdout",
     "output_type": "stream",
     "text": [
      "The position1 cost are [460000, 1760000, 790000, 120000, 960000, 930000, 1370000, 940000, 1210000, 950000, 260000, 150000, 300000, 860000, 1010000, 1130000, 560000, 310000, 440000, 970000, 760000, 560000, 1580000, 1400000, 140000, 1670000, 120000, 1040000, 160000, 1410000, 1460000, 320000, 1450000, 1080000, 790000, 250000, 240000, 1090000, 140000, 270000, 1180000, 140000, 1060000, 120000, 1150000, 1850000, 1220000, 210000, 970000, 1270000, 630000, 310000]\n"
     ]
    }
   ],
   "source": [
    "position1_cost=[]\n",
    "\n",
    "for i in range(len(parsed)):\n",
    "        if i in position1:\n",
    "\n",
    "            position1_cost.append(parsed[i]['cost'])\n",
    "\n",
    "print(\"The position1 cost are\",position1_cost) \n"
   ]
  },
  {
   "cell_type": "code",
   "execution_count": 5,
   "metadata": {},
   "outputs": [
    {
     "name": "stdout",
     "output_type": "stream",
     "text": [
      "The position2 cost are [120000, 140000, 140000, 160000, 180000, 180000, 190000, 200000, 210000, 210000, 260000, 270000, 280000, 290000, 310000, 370000, 380000, 390000, 410000, 440000, 460000, 490000, 540000, 620000, 630000, 680000, 700000, 700000, 710000, 730000, 760000, 790000, 930000, 1070000, 1080000, 1120000, 1160000, 1200000, 1210000, 1250000, 1390000, 1470000, 1490000, 1570000, 1740000, 1790000, 1840000, 1870000, 1940000, 2110000, 2220000]\n"
     ]
    }
   ],
   "source": [
    "position2_cost=[]\n",
    "\n",
    "\n",
    "for i in range(len(parsed)):\n",
    "        if i in position2:\n",
    "\n",
    "            position2_cost.append(parsed[i]['cost'])\n",
    "\n",
    "        \n",
    "        \n",
    "position2_cost.sort() \n",
    "print(\"The position2 cost are\", position2_cost)\n"
   ]
  },
  {
   "cell_type": "markdown",
   "metadata": {},
   "source": [
    "###  In the stats, I go to find all keys of stats, which include 'scores', 'match_scores', 'round_rank', 'season_rank', 'games_played', 'total_points', 'avg_points', 'high_score', 'low_score', 'last_3_avg', 'last_5_avg', 'selections', 'owned_by', 'prices'.\n",
    "\n",
    "\n",
    "### In my opinion, I think season rank is  the most important factor to evaluate the player's skill, so I find the season rank of position1 and position2, and named season_rank1 and season_rank2."
   ]
  },
  {
   "cell_type": "code",
   "execution_count": 6,
   "metadata": {},
   "outputs": [
    {
     "name": "stdout",
     "output_type": "stream",
     "text": [
      "dict_keys(['scores', 'match_scores', 'round_rank', 'season_rank', 'games_played', 'total_points', 'avg_points', 'high_score', 'low_score', 'last_3_avg', 'last_5_avg', 'selections', 'owned_by', 'prices'])\n"
     ]
    }
   ],
   "source": [
    "stats=[]\n",
    "\n",
    "for i in range(len(parsed)):\n",
    "    stats.append(parsed[i]['stats'])\n",
    "    \n",
    "print(stats[1].keys())"
   ]
  },
  {
   "cell_type": "code",
   "execution_count": 7,
   "metadata": {},
   "outputs": [
    {
     "name": "stdout",
     "output_type": "stream",
     "text": [
      "The  position1 season_rank are [144, 5, 108, 232, 111, 87, 26, 38, 46, 53, 235, 227, 187, 113, 71, 107, 197, 235, 235, 79, 75, 235, 72, 13, 221, 15, 262, 62, 235, 49, 21, 180, 19, 82, 112, 267, 205, 34, 235, 199, 82, 213, 35, 264, 18, 9, 63, 263, 103, 92, 121, 265]\n"
     ]
    }
   ],
   "source": [
    "season_rank1=[]\n",
    "\n",
    "for i in range(len(stats)):\n",
    "    if i in position1:\n",
    "        season_rank1.append(stats[i]['season_rank'])\n",
    "    \n",
    "print(\"The  position1 season_rank are\",season_rank1)"
   ]
  },
  {
   "cell_type": "code",
   "execution_count": 8,
   "metadata": {},
   "outputs": [
    {
     "name": "stdout",
     "output_type": "stream",
     "text": [
      "The  position2 season_rank are [141, 89, 6, 110, 91, 24, 4, 225, 183, 57, 148, 32, 128, 176, 142, 231, 76, 171, 190, 14, 172, 216, 42, 105, 189, 163, 203, 196, 99, 37, 35, 235, 185, 11, 88, 101, 226, 192, 45, 235, 163, 173, 100, 235, 155, 235, 15, 268, 274, 217, 68]\n"
     ]
    }
   ],
   "source": [
    "season_rank2=[]\n",
    "\n",
    "for i in range(len(stats)):\n",
    "    if i in position2:\n",
    "        season_rank2.append(stats[i]['season_rank'])\n",
    "    \n",
    "print(\"The  position2 season_rank are\",season_rank2)"
   ]
  },
  {
   "cell_type": "markdown",
   "metadata": {},
   "source": [
    "##  Sorting and Show Plot.\n",
    "### I go to sort the factors (cost of players, and the season rank) for the position1 and position2, I use the zip function to combine the three list, and use sorted function to order them, in my opinion, the season rank of player is more important than the cost factor, so I decided put the rank for the order factor1, and the cost for order factor 2."
   ]
  },
  {
   "cell_type": "markdown",
   "metadata": {},
   "source": [
    "### position1 sorted"
   ]
  },
  {
   "cell_type": "code",
   "execution_count": 9,
   "metadata": {},
   "outputs": [
    {
     "name": "stdout",
     "output_type": "stream",
     "text": [
      "[(10, 5, 1760000), (202, 9, 1850000), (115, 13, 1400000), (124, 15, 1670000), (201, 18, 1150000), (150, 19, 1450000), (144, 21, 1460000), (38, 26, 1370000), (186, 34, 1090000), (197, 35, 1060000), (41, 38, 940000), (44, 46, 1210000), (141, 49, 1410000), (47, 53, 950000), (130, 62, 1040000), (203, 63, 1220000), (69, 71, 1010000), (108, 72, 1580000), (94, 75, 760000), (92, 79, 970000), (157, 82, 1080000), (191, 82, 1180000), (36, 87, 930000), (210, 92, 1270000), (209, 103, 970000), (74, 107, 1130000), (16, 108, 790000), (24, 111, 960000), (164, 112, 790000), (63, 113, 860000), (214, 121, 630000), (2, 144, 460000), (148, 180, 320000), (62, 187, 300000), (77, 197, 560000), (190, 199, 270000), (184, 205, 240000), (195, 213, 140000), (122, 221, 140000), (57, 227, 150000), (18, 232, 120000), (188, 235, 140000), (135, 235, 160000), (51, 235, 260000), (83, 235, 310000), (86, 235, 440000), (104, 235, 560000), (128, 262, 120000), (208, 263, 210000), (198, 264, 120000), (267, 265, 310000), (179, 267, 250000)]\n"
     ]
    }
   ],
   "source": [
    "#def zip_dunction(x,y,z):\n",
    "    \n",
    "    \n",
    "    #return list(zip(x,y,z))\n",
    "#a=zip_dunction(position1,position1_cost,season_rank1)\n",
    "#sort_Position1_information = list(sorted(a,key=lambda x:(x[2],x[1])))\n",
    "#print(sort_Position1_information)    \n",
    "\n",
    "Position1_information = list(zip(position1,season_rank1,position1_cost))\n",
    "sort_Position1_information = list(sorted(Position1_information,key=lambda x:(x[1],x[2])))\n",
    "print(list(sort_Position1_information))"
   ]
  },
  {
   "cell_type": "code",
   "execution_count": 10,
   "metadata": {},
   "outputs": [],
   "source": [
    "u1 = zip(*sort_Position1_information)\n",
    "\n",
    "b1 = [list(x) for x in u1]"
   ]
  },
  {
   "cell_type": "markdown",
   "metadata": {},
   "source": [
    "### Plot1: for the position1 player:"
   ]
  },
  {
   "cell_type": "code",
   "execution_count": 11,
   "metadata": {},
   "outputs": [
    {
     "name": "stdout",
     "output_type": "stream",
     "text": [
      "[176. 185. 140. 167. 115. 145. 146. 137. 109. 106.  94. 121. 141.  95.\n",
      " 104. 122. 101. 158.  76.  97. 108. 118.  93. 127.  97. 113.  79.  96.\n",
      "  79.  86.  63.  46.  32.  30.  56.  27.  24.  14.  14.  15.  12.  14.\n",
      "  16.  26.  31.  44.  56.  12.  21.  12.  31.  25.]\n"
     ]
    }
   ],
   "source": [
    "a1 = np.array(b1[2])\n",
    "c1 = a1/10000\n",
    "print(c1)\n",
    "        "
   ]
  },
  {
   "cell_type": "code",
   "execution_count": 25,
   "metadata": {},
   "outputs": [
    {
     "data": {
      "image/png": "[encoded data removed]",
      "text/plain": [
       "<Figure size 1440x720 with 1 Axes>"
      ]
     },
     "metadata": {
      "needs_background": "light"
     },
     "output_type": "display_data"
    },
    {
     "data": {
      "text/plain": [
       "<Figure size 720x1440 with 0 Axes>"
      ]
     },
     "metadata": {},
     "output_type": "display_data"
    }
   ],
   "source": [
    "bar_width = 0.5 \n",
    "cost = np.arange(len(b1[0]))   \n",
    "season_rank = cost + bar_width   \n",
    "   \n",
    "plt.figure(figsize=(20,10))\n",
    "plt.bar(cost, height=b1[1], width=bar_width, color='b', label='season_rank')\n",
    "plt.bar(season_rank, height=c1, width=bar_width, color='r', label='cost/10000')\n",
    " \n",
    "plt.legend()   \n",
    "plt.xticks(cost + bar_width/2, b1[0])  \n",
    "\n",
    "plt.title('Position1_cost and rank')  \n",
    "plt.figure(figsize=(10,20))\n",
    "plt.show()"
   ]
  },
  {
   "cell_type": "markdown",
   "metadata": {},
   "source": [
    "### The red represent the cost, and the blue represent the season rank, so we can see the higer rank of position 1 are very cheap, so we can choose the higer rank player."
   ]
  },
  {
   "cell_type": "markdown",
   "metadata": {},
   "source": [
    "## Plot2: for the position2 player:"
   ]
  },
  {
   "cell_type": "code",
   "execution_count": 13,
   "metadata": {},
   "outputs": [
    {
     "name": "stdout",
     "output_type": "stream",
     "text": [
      "[(22, 4, 190000), (9, 6, 140000), (154, 11, 1070000), (65, 14, 440000), (196, 15, 1840000), (21, 24, 180000), (33, 32, 270000), (132, 35, 760000), (125, 37, 730000), (80, 42, 540000), (174, 45, 1210000), (29, 57, 210000), (213, 68, 2220000), (55, 76, 380000), (166, 88, 1080000), (5, 89, 140000), (19, 91, 180000), (106, 99, 710000), (187, 100, 1490000), (167, 101, 1120000), (84, 105, 620000), (14, 110, 160000), (37, 128, 280000), (1, 141, 120000), (53, 142, 310000), (30, 148, 260000), (192, 155, 1740000), (91, 163, 680000), (177, 163, 1390000), (59, 171, 390000), (75, 172, 460000), (183, 173, 1470000), (39, 176, 290000), (28, 183, 210000), (147, 185, 930000), (85, 189, 630000), (61, 190, 410000), (173, 192, 1200000), (103, 196, 700000), (102, 203, 700000), (79, 216, 490000), (212, 217, 2110000), (23, 225, 200000), (172, 226, 1160000), (54, 231, 370000), (139, 235, 790000), (175, 235, 1250000), (189, 235, 1570000), (193, 235, 1790000), (206, 268, 1870000), (207, 274, 1940000)]\n"
     ]
    }
   ],
   "source": [
    "Position2_information = list(zip(position2,season_rank2,position2_cost))\n",
    "sort_Position2_information = list(sorted(Position2_information,key=lambda x:(x[1],x[2])))\n",
    "print(list(sort_Position2_information))"
   ]
  },
  {
   "cell_type": "code",
   "execution_count": 14,
   "metadata": {},
   "outputs": [],
   "source": [
    "u2 = zip(*sort_Position2_information)\n",
    "\n",
    "b = [list(x) for x in u2]\n"
   ]
  },
  {
   "cell_type": "code",
   "execution_count": 15,
   "metadata": {},
   "outputs": [
    {
     "name": "stdout",
     "output_type": "stream",
     "text": [
      "[ 19.  14. 107.  44. 184.  18.  27.  76.  73.  54. 121.  21. 222.  38.\n",
      " 108.  14.  18.  71. 149. 112.  62.  16.  28.  12.  31.  26. 174.  68.\n",
      " 139.  39.  46. 147.  29.  21.  93.  63.  41. 120.  70.  70.  49. 211.\n",
      "  20. 116.  37.  79. 125. 157. 179. 187. 194.]\n"
     ]
    }
   ],
   "source": [
    "\n",
    "import numpy as np\n",
    " \n",
    "a = np.array(b[2])\n",
    "c = a/10000\n",
    "print(c)\n",
    "        \n",
    "    "
   ]
  },
  {
   "cell_type": "code",
   "execution_count": 24,
   "metadata": {},
   "outputs": [
    {
     "data": {
      "image/png": "[encoded data removed]",
      "text/plain": [
       "<Figure size 1440x720 with 1 Axes>"
      ]
     },
     "metadata": {
      "needs_background": "light"
     },
     "output_type": "display_data"
    },
    {
     "data": {
      "text/plain": [
       "<Figure size 720x1440 with 0 Axes>"
      ]
     },
     "metadata": {},
     "output_type": "display_data"
    }
   ],
   "source": [
    "bar_width = 0.5  # 条形宽度\n",
    "cost = np.arange(len(b[0]))  # 男生条形图的横坐标\n",
    "season_rank = cost + bar_width  # 女生条形图的横坐标\n",
    "# 使用两次 bar 函数画出两组条形图\n",
    "plt.figure(figsize=(20,10))\n",
    "plt.bar(cost, height=b[1], width=bar_width, color='orange', label='season_rank')\n",
    "plt.bar(season_rank, height=c, width=bar_width, color='g', label='cost/10000')\n",
    " \n",
    "plt.legend()  # 显示图例\n",
    "plt.xticks(cost + bar_width/2, b[0])  # 让横坐标轴刻度显示 waters 里的饮用水， index_male + bar_width/2 为横坐标轴刻度的位置\n",
    "\n",
    "plt.title('Position2_cost and rank')  # 图形标题\n",
    "plt.figure(figsize=(10,20))\n",
    "plt.show()"
   ]
  },
  {
   "cell_type": "markdown",
   "metadata": {},
   "source": [
    "### The green represent the cost, and the yellow represent the season rank, so we can see the higer rank of position 2 and their cost is resasonable,compare with the lower rank and their cost, so we can choose the higer rank player."
   ]
  },
  {
   "cell_type": "markdown",
   "metadata": {},
   "source": [
    "###  Find the name of most suitable players"
   ]
  },
  {
   "cell_type": "code",
   "execution_count": 17,
   "metadata": {},
   "outputs": [
    {
     "name": "stdout",
     "output_type": "stream",
     "text": [
      "The position1 player is ['Jan Vesely']\n",
      "The position2 player is ['Antanas Kavaliauskas']\n"
     ]
    }
   ],
   "source": [
    "position1_select_player=[]\n",
    "position2_select_player=[]\n",
    "for i in range(len(parsed)):\n",
    "    \n",
    "   \n",
    "        if parsed[i]['id'] == 10:\n",
    "            position1_select_player.append(parsed[i]['first_name']+\" \"+parsed[i]['last_name'])\n",
    "        if parsed[i]['id'] == 2:\n",
    "            position2_select_player.append(parsed[i]['first_name']+\" \"+parsed[i]['last_name'])\n",
    "        else:\n",
    "            continue\n",
    "\n",
    "    \n",
    "print(\"The position1 player is\", position1_select_player)\n",
    "print(\"The position2 player is\", position2_select_player)\n",
    "\n",
    "#parsed[9]['first_name']+\" \"+parsed[9]['last_name']"
   ]
  },
  {
   "cell_type": "markdown",
   "metadata": {},
   "source": [
    "## Finding"
   ]
  },
  {
   "cell_type": "markdown",
   "metadata": {},
   "source": [
    "#### The positions are \n",
    "[2, 1, 3, 4, 5]\n",
    "\n",
    "\n",
    "#### The position1 are\n",
    "[2, 10, 16, 18, 24, 36, 38, 41, 44, 47, 51, 57, 62, 63, 69, 74, 77, 83, 86, 92, 94, 104, 108, 115, 122, 124, 128, 130, 135, 141, 144, 148, 150, 157, 164, 179, 184, 186, 188, 190, 191, 195, 197, 198, 201, 202, 203, 208, 209, 210, 214, 267, 348, 352, 356, 358, 361, 372, 404, 3842, 8159]\n",
    "\n",
    "\n",
    "#### The position2 are\n",
    "[1, 5, 9, 14, 19, 21, 22, 23, 28, 29, 30, 33, 37, 39, 53, 54, 55, 59, 61, 65, 75, 79, 80, 84, 85, 91, 102, 103, 106, 125, 132, 139, 147, 154, 166, 167, 172, 173, 174, 175, 177, 183, 187, 189, 192, 193, 196, 206, 207, 212, 213, 306, 340, 344, 346, 347, 355, 360, 362, 364, 365, 373, 374, 391, 394, 395, 396, 397, 398, 400, 401, 405, 4195, 8099\n",
    "\n",
    "#### The position1 cost are\n",
    "[460000, 1760000, 790000, 120000, 960000, 930000, 1370000, 940000, 1210000, 950000, 260000, 150000, 300000, 860000, 1010000, 1130000, 560000, 310000, 440000, 970000, 760000, 560000, 1580000, 1400000, 140000, 1670000, 120000, 1040000, 160000, 1410000, 1460000, 320000, 1450000, 1080000, 790000, 250000, 240000, 1090000, 140000, 270000, 1180000, 140000, 1060000, 120000, 1150000, 1850000, 1220000, 210000, 970000, 1270000, 630000, 310000]\n",
    "\n",
    "\n",
    "#### The position2 cost are \n",
    "[120000, 140000, 140000, 160000, 180000, 180000, 190000, 200000, 210000, 210000, 260000, 270000, 280000, 290000, 310000, 370000, 380000, 390000, 410000, 440000, 460000, 490000, 540000, 620000, 630000, 680000, 700000, 700000, 710000, 730000, 760000, 790000, 930000, 1070000, 1080000, 1120000, 1160000, 1200000, 1210000, 1250000, 1390000, 1470000, 1490000, 1570000, 1740000, 1790000, 1840000, 1870000, 1940000, 2110000, 2220000]\n",
    "\n",
    "#### The  position1 season_rank are \n",
    "[144, 5, 108, 232, 111, 87, 26, 38, 46, 53, 235, 227, 187, 113, 71, 107, 197, 235, 235, 79, 75, 235, 72, 13, 221, 15, 262, 62, 235, 49, 21, 180, 19, 82, 112, 267, 205, 34, 235, 199, 82, 213, 35, 264, 18, 9, 63, 263, 103, 92, 121, 265]\n",
    "\n",
    "#### The  position2 season_rank are\n",
    "[141, 89, 6, 110, 91, 24, 4, 225, 183, 57, 148, 32, 128, 176, 142, 231, 76, 171, 190, 14, 172, 216, 42, 105, 189, 163, 203, 196, 99, 37, 35, 235, 185, 11, 88, 101, 226, 192, 45, 235, 163, 173, 100, 235, 155, 235, 15, 268, 274, 217, 68]\n",
    "\n",
    "\n",
    "#### sort_Position1_information\n",
    "[(10, 5, 1760000), (202, 9, 1850000), (115, 13, 1400000), (124, 15, 1670000), (201, 18, 1150000), (150, 19, 1450000), (144, 21, 1460000), (38, 26, 1370000), (186, 34, 1090000), (197, 35, 1060000), (41, 38, 940000), (44, 46, 1210000), (141, 49, 1410000), (47, 53, 950000), (130, 62, 1040000), (203, 63, 1220000), (69, 71, 1010000), (108, 72, 1580000), (94, 75, 760000), (92, 79, 970000), (157, 82, 1080000), (191, 82, 1180000), (36, 87, 930000), (210, 92, 1270000), (209, 103, 970000), (74, 107, 1130000), (16, 108, 790000), (24, 111, 960000), (164, 112, 790000), (63, 113, 860000), (214, 121, 630000), (2, 144, 460000), (148, 180, 320000), (62, 187, 300000), (77, 197, 560000), (190, 199, 270000), (184, 205, 240000), (195, 213, 140000), (122, 221, 140000), (57, 227, 150000), (18, 232, 120000), (188, 235, 140000), (135, 235, 160000), (51, 235, 260000), (83, 235, 310000), (86, 235, 440000), (104, 235, 560000), (128, 262, 120000), (208, 263, 210000), (198, 264, 120000), (267, 265, 310000), (179, 267, 250000)]\n",
    "\n",
    "\n",
    "#### sort_Position2_information\n",
    "[(22, 4, 190000), (9, 6, 140000), (154, 11, 1070000), (65, 14, 440000), (196, 15, 1840000), (21, 24, 180000), (33, 32, 270000), (132, 35, 760000), (125, 37, 730000), (80, 42, 540000), (174, 45, 1210000), (29, 57, 210000), (213, 68, 2220000), (55, 76, 380000), (166, 88, 1080000), (5, 89, 140000), (19, 91, 180000), (106, 99, 710000), (187, 100, 1490000), (167, 101, 1120000), (84, 105, 620000), (14, 110, 160000), (37, 128, 280000), (1, 141, 120000), (53, 142, 310000), (30, 148, 260000), (192, 155, 1740000), (91, 163, 680000), (177, 163, 1390000), (59, 171, 390000), (75, 172, 460000), (183, 173, 1470000), (39, 176, 290000), (28, 183, 210000), (147, 185, 930000), (85, 189, 630000), (61, 190, 410000), (173, 192, 1200000), (103, 196, 700000), (102, 203, 700000), (79, 216, 490000), (212, 217, 2110000), (23, 225, 200000), (172, 226, 1160000), (54, 231, 370000), (139, 235, 790000), (175, 235, 1250000), (189, 235, 1570000), (193, 235, 1790000), (206, 268, 1870000), (207, 274, 1940000)]\n",
    "\n",
    "\n",
    "#### The most suitable position1 player is ['Jan Vesely']\n",
    "#### The most suitable position2 player is ['Antanas Kavaliauskas']\n",
    "\n"
   ]
  },
  {
   "cell_type": "markdown",
   "metadata": {},
   "source": [
    "## Recommendation-call to action"
   ]
  },
  {
   "cell_type": "markdown",
   "metadata": {},
   "source": [
    "#### In the process of analysis, I find the id of position1 and position2, and according to their id to find out the cost of these player. Additionally, I find the season rank of each player playing in the position1 and position2, and I order the players depend on these factors. In addition, according to the plot showing, we can know the highest rank of players, becasue the cost is very cheap for the highest rank position1 player, and the cost is medium and reasonable for the highest rank position2 player.After searching, we can know their name, 'Jan Vesely' is the most suitable for position1, and Antanas Kavaliauskas is the most suitable playee for position2. Let's go to contact with Jan Vesely and Antanas Kavaliauskas and trade with them!"
   ]
  },
  {
   "cell_type": "code",
   "execution_count": null,
   "metadata": {},
   "outputs": [],
   "source": []
  }
 ],
 "metadata": {
  "kernelspec": {
   "display_name": "Python 3",
   "language": "python",
   "name": "python3"
  },
  "language_info": {
   "codemirror_mode": {
    "name": "ipython",
    "version": 3
   },
   "file_extension": ".py",
   "mimetype": "text/x-python",
   "name": "python",
   "nbconvert_exporter": "python",
   "pygments_lexer": "ipython3",
   "version": "3.8.5"
  }
 },
 "nbformat": 4,
 "nbformat_minor": 5
}
